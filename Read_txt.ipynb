{
 "metadata": {
  "name": "",
  "signature": "sha256:08c87bf59e4c20530c265ebb797121f48271145998f833ab9139a0e0b185755d"
 },
 "nbformat": 3,
 "nbformat_minor": 0,
 "worksheets": [
  {
   "cells": [
    {
     "cell_type": "heading",
     "level": 1,
     "metadata": {},
     "source": [
      "Importing and Plotting Data in Python."
     ]
    },
    {
     "cell_type": "heading",
     "level": 3,
     "metadata": {},
     "source": [
      "Tue 27th Jan 2015"
     ]
    },
    {
     "cell_type": "markdown",
     "metadata": {},
     "source": [
      "<hr>"
     ]
    },
    {
     "cell_type": "markdown",
     "metadata": {},
     "source": [
      "We are going to use the daily weather for Boulder from NOAA/NWS:\n",
      "http://www.esrl.noaa.gov/psd/boulder/getdata.html. We will download the complete [data set](http://www.esrl.noaa.gov/psd/boulder/data/boulderdaily.complete), then filter it to only\n",
      "include data from 2012.\n",
      "\n",
      "Where by the columns are\n",
      "\n",
      "|Year| Month| Day | T max| T min| Precipitation | Snow| Snow Cover|\n",
      "|----|------|-----|------|------|-------|-----|----------|\n",
      "|2014 |12 |30     |8     |-6    |0.13     |2.0     |11|\n",
      "|2014 |12 |31     |31    |-14   |0.00     |0.0     | 9|\n",
      "\n",
      "The steps that we will take are:\n",
      "\n",
      "1. <a href=\"#import\">Import the needed modules into python.</a>\n",
      "2. <a href=\"#define\">Assign variables to the columns of the data.</a>\n",
      "3. <a href=\"#load\">Download the data and parse it using the `genfromtxt` function.</a>\n",
      "4. <a href=\"#stats\">Calculate some basic statistics (mean, standard deviation).</a>\n",
      "5. <a href=\"#plot\">Plot the data and the mean temperature.</a>"
     ]
    },
    {
     "cell_type": "markdown",
     "metadata": {},
     "source": [
      "<hr>"
     ]
    },
    {
     "cell_type": "markdown",
     "metadata": {},
     "source": [
      "<a id=\"import\">\n",
      "###Importing modules</a>\n",
      "* We're going to use `urllib2` to download the data. Then `StringIO` and `itertools` for filtering.\n",
      "* The `datetime` module to convert the *year*, *month* and *day* into a date.\n",
      "* The `numpy` module as `np` for processing.<br>\n",
      "* For plotting we will use `matplotlib` and import it as `plt`."
     ]
    },
    {
     "cell_type": "code",
     "collapsed": false,
     "input": [
      "import urllib2\n",
      "import StringIO as sio\n",
      "import itertools as itt\n",
      "import datetime as dt\n",
      "import numpy as np\n",
      "import matplotlib.pyplot as plt"
     ],
     "language": "python",
     "metadata": {},
     "outputs": []
    },
    {
     "cell_type": "markdown",
     "metadata": {},
     "source": [
      "<sup>\n",
      "Note if your matplotlib does not automatically plot inline, you should call the following.</sup>"
     ]
    },
    {
     "cell_type": "code",
     "collapsed": false,
     "input": [
      "%matplotlib inline"
     ],
     "language": "python",
     "metadata": {},
     "outputs": []
    },
    {
     "cell_type": "markdown",
     "metadata": {},
     "source": [
      "<a id=\"define\">\n",
      "###Define the columns</a>\n",
      "We create an array that contains the data names and types. Also a function to create a `datetime` object from the *year*, *month* and *day*."
     ]
    },
    {
     "cell_type": "code",
     "collapsed": false,
     "input": [
      "# Define the data types\n",
      "col_dtypes = [('ymd',  int, 3),\n",
      "              ('tmax', float), # Temperature maximum\n",
      "              ('tmin', float), # Temperature minimum\n",
      "              ('pcep', float), # Precipitation\n",
      "              ('snow', float), # Snow\n",
      "              ('scvr', float)] # Snow cover\n",
      "\n",
      "# Create a datetime object\n",
      "def cdate(x):\n",
      "    return dt.datetime(int(x[0]), int(x[1]), int(x[2]))"
     ],
     "language": "python",
     "metadata": {},
     "outputs": []
    },
    {
     "cell_type": "markdown",
     "metadata": {},
     "source": [
      "<a id=\"load\">\n",
      "###Download and parse the data</a>\n",
      "Next we use `urllib2` to download the data on the fly.\n",
      "\n",
      "Numpy has `genfromtxt` to parse/load the data, we will use that with a few options."
     ]
    },
    {
     "cell_type": "code",
     "collapsed": false,
     "input": [
      "# define the URL and load the raw data\n",
      "durl  = \"http://www.esrl.noaa.gov/psd/boulder/data/boulderdaily.complete\"\n",
      "dres  = urllib2.urlopen(durl)\n",
      "dall = sio.StringIO(dres.read())\n",
      "\n",
      "# Filter out only data from 2012\n",
      "year = \"2012\"\n",
      "\n",
      "# slurp in the data\n",
      "data = np.genfromtxt(itt.ifilter(lambda x: x.strip().startswith(year), dall),\n",
      "                     dtype=col_dtypes,\n",
      "                     filling_values=(-998))\n",
      "\n",
      "# If we don't have a connection in class\n",
      "#data = np.genfromtxt('boulder_daily.csv',\n",
      "#                     delimiter=\",\",\n",
      "#                     dtype=col_dtypes,\n",
      "#                     filling_values=(-998))\n",
      "#                     converters={1: cdate})"
     ],
     "language": "python",
     "metadata": {},
     "outputs": []
    },
    {
     "cell_type": "markdown",
     "metadata": {},
     "source": [
      "Explore the datasets."
     ]
    },
    {
     "cell_type": "code",
     "collapsed": false,
     "input": [],
     "language": "python",
     "metadata": {},
     "outputs": []
    },
    {
     "cell_type": "markdown",
     "metadata": {},
     "source": [
      "Convert the dates."
     ]
    },
    {
     "cell_type": "code",
     "collapsed": false,
     "input": [],
     "language": "python",
     "metadata": {},
     "outputs": []
    },
    {
     "cell_type": "markdown",
     "metadata": {},
     "source": [
      "Convert the measurments to SI units. Since the temperature is in \u00b0F (and precip and snow are in inches)."
     ]
    },
    {
     "cell_type": "code",
     "collapsed": false,
     "input": [
      "#tmax_C = (data['tmax'][:] -32) * (5.0/9.0)\n",
      "#tmax_K = tmax_C + 273.0\n",
      "#print '\u00b0F: %f\\n\u00b0C: %f\\nK: %f' %(data['tmax'][0], tmax_C[0], tmax_K[0])"
     ],
     "language": "python",
     "metadata": {},
     "outputs": []
    },
    {
     "cell_type": "markdown",
     "metadata": {},
     "source": [
      "<a id=\"stats\">\n",
      "###Statistics</a>\n",
      "Calculate some basic statistics from the data."
     ]
    },
    {
     "cell_type": "code",
     "collapsed": false,
     "input": [
      "\n",
      "\n",
      "#print 'Mean: %3.1f \u00b0F\\nLowest: %3.1f \u00b0F\\nHighest: %3.1f \u00b0F\\n' %(tmax_avg, tmax_low, tmax_hig)"
     ],
     "language": "python",
     "metadata": {},
     "outputs": []
    },
    {
     "cell_type": "markdown",
     "metadata": {},
     "source": [
      "<a id=\"plot\">\n",
      "###Plot</a>\n",
      "Create a scatter plot of the daily maximum temperature, adding a line for mean temperature."
     ]
    },
    {
     "cell_type": "code",
     "collapsed": false,
     "input": [
      "fig, ax = plt.subplots(1) \n",
      "\n",
      "fig.autofmt_xdate()\n",
      "\n",
      "plt.plot_date(dates, data['tmax'])\n",
      "plt.axhline(tmax_avg, color='r')\n",
      "\n",
      "plt.title('Daily Maximum Temperatures')\n",
      "plt.xlabel('Date')\n",
      "plt.ylabel(u'Temperature [\u00b0F]')\n",
      "\n",
      "plt.show()"
     ],
     "language": "python",
     "metadata": {},
     "outputs": []
    }
   ],
   "metadata": {}
  }
 ]
}