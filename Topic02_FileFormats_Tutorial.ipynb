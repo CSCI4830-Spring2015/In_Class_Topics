{
 "metadata": {
  "name": "",
  "signature": "sha256:cdc0073c9bc776573edecf39bb8e8fcc1c53f2376bd5bb9d3d06774ead22f7fb"
 },
 "nbformat": 3,
 "nbformat_minor": 0,
 "worksheets": [
  {
   "cells": [
    {
     "cell_type": "markdown",
     "metadata": {},
     "source": [
      "#TOPIC 02: File Formats (VTK, netCDF) and How To View Them"
     ]
    },
    {
     "cell_type": "markdown",
     "metadata": {},
     "source": [
      "##VTK File Format##\n",
      "VTK files are saved as simple text files and can thus be opened and read by any test editor. "
     ]
    },
    {
     "cell_type": "code",
     "collapsed": false,
     "input": [
      "%less cylinder.vtk"
     ],
     "language": "python",
     "metadata": {},
     "outputs": [],
     "prompt_number": 3
    },
    {
     "cell_type": "markdown",
     "metadata": {},
     "source": [
      "However these files get pretty large and difficult to find what your looking for really fast. You have a few of choices to make life easier for you.\n",
      "- Scan through the whole file manually (good luck with that)\n",
      "- Use something like grep or sed/awk to search through the file (not as fun that fun unless your name is Pete)\n",
      "- Write a parser to scan through the code (not that hard if your using python)\n",
      "- Use Paraview as it is partially built atop of VTK (Life is very easy now!!)\n",
      "\n",
      "##Paraview##\n",
      "I'll demonstrate Paraview from my Windows Desktop (see Lecture Video for details)"
     ]
    },
    {
     "cell_type": "markdown",
     "metadata": {},
     "source": [
      "#IN-CLASS Questions (To be submitted to dropbox)#\n"
     ]
    },
    {
     "cell_type": "markdown",
     "metadata": {},
     "source": [
      "##cylinder.vtk##\n",
      "1) Is it a structured or unstructured data set? (2 points)\n",
      "- If it is a structured data set, what are the dimensions of the data?\n",
      "- If it is an ustructured data set, what are the dimensions of the data?\n",
      "- How many cells are in the data set? \n"
     ]
    },
    {
     "cell_type": "code",
     "collapsed": true,
     "input": [],
     "language": "python",
     "metadata": {},
     "outputs": []
    },
    {
     "cell_type": "markdown",
     "metadata": {},
     "source": [
      "2) How many attributes are stored in the data set? (2 points)"
     ]
    },
    {
     "cell_type": "code",
     "collapsed": true,
     "input": [],
     "language": "python",
     "metadata": {},
     "outputs": []
    },
    {
     "cell_type": "markdown",
     "metadata": {},
     "source": [
      "3) What are those attributes?  What are the ranks of those attributes? (2 points)"
     ]
    },
    {
     "cell_type": "code",
     "collapsed": true,
     "input": [],
     "language": "python",
     "metadata": {},
     "outputs": []
    },
    {
     "cell_type": "markdown",
     "metadata": {},
     "source": [
      "##tornado.vtk##\n",
      "1) Is it a structured or unstructured data set? (2 points)\n",
      "- If it is a structured data set, what are the dimensions of the data?\n",
      "- If it is an ustructured data set, what are the dimensions of the data?\n",
      "- How many cells are in the data set? \n"
     ]
    },
    {
     "cell_type": "code",
     "collapsed": true,
     "input": [],
     "language": "python",
     "metadata": {},
     "outputs": []
    },
    {
     "cell_type": "markdown",
     "metadata": {},
     "source": [
      "2) How many attributes are stored in the data set? (2 points)"
     ]
    },
    {
     "cell_type": "markdown",
     "metadata": {},
     "source": []
    },
    {
     "cell_type": "markdown",
     "metadata": {},
     "source": [
      "3) What are those attributes?  What are the ranks of those attributes? (2 points)"
     ]
    },
    {
     "cell_type": "code",
     "collapsed": true,
     "input": [],
     "language": "python",
     "metadata": {},
     "outputs": []
    },
    {
     "cell_type": "markdown",
     "metadata": {},
     "source": [
      "======================================\n",
      "#NetCDF File Formats#\n",
      "##ncdump##\n",
      "ncdump is a special netCDF tool which allows you to quickly view the contents of a netCDF file.\n",
      "Note: You will need to install NetCDF-C to your machine. This can be found on the Unidata NetCDF site (http://www.unidata.ucar.edu/downloads/netcdf/index.jsp). \n",
      "For Windows user\u2019s go to the Pre-Built Windows Binaries for the latest version of NetCDF-C (http://www.unidata.ucar.edu/software/netcdf/docs/winbin.html) page and download and install the netCDF4 netCDF 4.3.2-NC4-64.exe (http://www.unidata.ucar.edu/netcdf/win_netcdf/netCDF4.3.2-NC4-64.exe).  If you do not have a 64bit machine grab the 32 bit binaries. You will have to add the path of the \u2018bin\u2019 directory of this install to your environment \u2018PATH\u2019 variable manually. Make sure you use the entire path including the bin (eg C:\\Program Files (x86)\\netCDF 4.3.2\\bin)\n",
      "\n",
      "The basic usage of ncdump is: ncdump < filename >\n",
      "If you only want to read the header and skip all the raw data then you can use the -h flag (eg ncview -h < filename>\n",
      "\n",
      "(Note: if your system complains that it cannot find ncdump then you probably forgot to add the path to your PATH environment variable. You can check that in a Notebook by doing:\n"
     ]
    },
    {
     "cell_type": "code",
     "collapsed": false,
     "input": [
      "%echo %PATH%"
     ],
     "language": "python",
     "metadata": {},
     "outputs": []
    },
    {
     "cell_type": "markdown",
     "metadata": {},
     "source": [
      "In order to display the output of ncdump in a Notebook as you would when running natively you can use the following function, where 'fname' is the name of the netCDF file you want to dump and 'header_only' tells it you want the display just the header (0) or both the header and the data (1)."
     ]
    },
    {
     "cell_type": "code",
     "collapsed": false,
     "input": [
      "def get_ncdump(fName, header_only=0):\n",
      "    if header_only:\n",
      "        szDump = %system ncdump.exe -h $fName\n",
      "    else:\n",
      "        szDump = %system ncdump.exe $fName\n",
      "    szDump = '\\n'.join(szDump)\n",
      "    szDump=szDump.encode('string_escape').replace('\\\\t','\\t').replace('\\\\n','\\n').replace('\\\\',' ')\n",
      "    return szDump"
     ],
     "language": "python",
     "metadata": {},
     "outputs": []
    },
    {
     "cell_type": "markdown",
     "metadata": {},
     "source": [
      "Now all you have to do is call the function get_ncdump() and print the returned string."
     ]
    },
    {
     "cell_type": "code",
     "collapsed": false,
     "input": [
      "a = getNCDUMP('tos_O1_2001-2002.nc', header_only = 1)\n",
      "print ncdata"
     ],
     "language": "python",
     "metadata": {},
     "outputs": []
    },
    {
     "cell_type": "markdown",
     "metadata": {},
     "source": [
      "##ncview\n",
      "This is another special netCDF tool which lets you quickly visualize many netCDF files quickly and easily. \n",
      "Note: This also requires another seperate download and install which can be found at http://meteora.ucsd.edu/~pierce/ncview_home_page.html. This is primarily a Linux based application. While its possible to build a Windows version via cygwin, we leave that painful excerise to you or you may create a Linux based VM (see our tutorial on creating one). Another option is to use the ncview module on Janus as I will demonstrate (see Lecture Video for details).\n",
      "\n",
      "The basic usage syntax is: ncview < netCDF filename > "
     ]
    },
    {
     "cell_type": "code",
     "collapsed": false,
     "input": [],
     "language": "python",
     "metadata": {},
     "outputs": []
    }
   ],
   "metadata": {}
  }
 ]
}