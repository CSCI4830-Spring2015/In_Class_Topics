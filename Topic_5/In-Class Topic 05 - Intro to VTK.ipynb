{
 "metadata": {
  "name": "",
  "signature": "sha256:6ea59d55d1f5a7e8c95d994bddf87bc3afdf1729bdc6f9c14803629e1bdcec99"
 },
 "nbformat": 3,
 "nbformat_minor": 0,
 "worksheets": [
  {
   "cells": [
    {
     "cell_type": "heading",
     "level": 1,
     "metadata": {},
     "source": [
      "Introduction to VTK"
     ]
    },
    {
     "cell_type": "heading",
     "level": 3,
     "metadata": {},
     "source": [
      "Tuesday 16 Feb 2015"
     ]
    },
    {
     "cell_type": "markdown",
     "metadata": {},
     "source": [
      "Today we will take an introductory look at using VTK as a coding base to write your own visualizations.\n",
      "\n",
      "We will be looking at:\n",
      "\n",
      "1. <a href=\"#api_docs\">VTK API Documentation</a>\n",
      "2. <a href=\"#pipeline\">VTK Pipeline</a>\n",
      "3. <a href=\"#source\">Source/Reader</a>\n",
      "4. <a href=\"#mapper\">Mapper</a>\n",
      "5. <a href=\"#actor\">Actor</a>\n",
      "6. <a href=\"#renderer\">Renderer</a>\n"
     ]
    },
    {
     "cell_type": "markdown",
     "metadata": {},
     "source": [
      "<a id=\"api_docs\">\n",
      "###VTK API Documentation</a>\n",
      "The first and most important thing to know is where to find information about the VTK API:\n",
      "http://www.vtk.org/doc/nightly/html/index.html\n",
      "\n",
      "The Python VTK wiki demos: http://www.vtk.org/Wiki/VTK/Examples/Python"
     ]
    },
    {
     "cell_type": "markdown",
     "metadata": {},
     "source": [
      "<a id=\"pipeline\">\n",
      "###VTK Pipeline</a>\n",
      "\n",
      "<b>SOURCE/READER:</b> Data is read in using 'vtkDataReader' functions based on data file structure type \n",
      "         (http://www.vtk.org/doc/nightly/html/classvtkDataReader.html) \n",
      "        \n",
      "<b>FILTERS:</b> Manipulate and transform data and data components (we're skipping filters today)\n",
      "\n",
      "<b>MAPPER:</b> The interface/converter between the data and graphic primatives (eg, tris,quads, spheres, ect.)\n",
      "         (http://www.vtk.org/doc/nightly/html/classvtkMapper.html)\n",
      "         \n",
      "<b>ACTOR:</b> Describes how the mapped primatives are represented to the renderer. This includes 'Representation' style (eg points, wireframe, surface), 'Color', surfacing (eg opacity, specular, ect) and MUCH more.\n",
      "         (http://www.vtk.org/doc/nightly/html/classvtkActor.html)\n",
      "         \n",
      "<b>RENDERER:</b> Interface between Actor, lights, camera(s) and other scene components and the code to render the \n",
      "   scene out to a render window. (http://www.vtk.org/doc/nightly/html/classvtkRenderer.html).\n",
      "   In addition you need a gui window to post your renderer into. FOr this you want to use the interactive render window vtkRenderWindow (http://www.vtk.org/doc/nightly/html/classvtkRenderWindow.html)\n",
      "   \n",
      "          \n",
      "<img src=\"Pipeline.png\">        "
     ]
    },
    {
     "cell_type": "markdown",
     "metadata": {},
     "source": [
      "<a id=\"source\">\n",
      "###Source/Reader</a>\n",
      "Opens a data file using a Reader and updates the 'reader'. We can also inspect the data from the reader."
     ]
    },
    {
     "cell_type": "code",
     "collapsed": false,
     "input": [
      "from vtk import *\n",
      "\n",
      "# Different types of point/cell primitive\n",
      "vtk_cell_type = {1:'vertex', 2:'poly_vertex', 3:'line', 4:'poly_line', 5:'triangle',\n",
      "                 6:'triangle_strip', 7:'polygon', 8:'pixel', 9:'quad', 10:'tetra',\n",
      "                 11:'voxel', 12:'hexahedron'}\n",
      "\n",
      "# The data file\n",
      "file_name = \"cylinder.vtk\"\n",
      " \n",
      "# Read the data file.\n",
      "reader = vtkUnstructuredGridReader()\n",
      "reader.SetFileName(file_name)\n",
      "reader.Update()\n",
      "\n",
      "# Get some information \n",
      "data = reader.GetOutput()\n",
      "\n",
      "# Display the number and type of points\n",
      "print('Number of Pts:   %s'% str(data.GetNumberOfPoints()))\n",
      "print('Pts Type:   %s'% str(vtk_cell_type[data.GetCellType(0)]))\n",
      "\n",
      "# TODO - Display the number and type of cells\n"
     ],
     "language": "python",
     "metadata": {},
     "outputs": [
      {
       "output_type": "stream",
       "stream": "stdout",
       "text": [
        "Number of Pts:   8499\n",
        "Pts Type:   hexahedron\n"
       ]
      }
     ],
     "prompt_number": 1
    },
    {
     "cell_type": "markdown",
     "metadata": {},
     "source": [
      "<a id=\"mapper\">\n",
      "###Mapper</a>\n"
     ]
    },
    {
     "cell_type": "code",
     "collapsed": false,
     "input": [
      "# Create the mapper as a function of the Reader data \n",
      "mapperSurf = vtkDataSetMapper()\n",
      "mapperEdge = vtkDataSetMapper()\n",
      "mapperEdge.SetInputConnection(reader.GetOutputPort())\n",
      "\n",
      "# TODO - Create a mapper for surfaces (mapperSurf)"
     ],
     "language": "python",
     "metadata": {},
     "outputs": [],
     "prompt_number": 2
    },
    {
     "cell_type": "markdown",
     "metadata": {},
     "source": [
      "<a id=\"actor\">\n",
      "###Actor</a>\n"
     ]
    },
    {
     "cell_type": "code",
     "collapsed": false,
     "input": [
      "# Create the Actor as a function of the Mapper\n",
      "actorEdge = vtkActor()\n",
      "actorEdge.GetProperty().SetRepresentationToWireframe()\n",
      "actorEdge.SetMapper(mapperEdge)\n",
      "\n",
      "mapperEdge.SetResolveCoincidentTopologyPolygonOffsetParameters(1,1)\n",
      "mapperEdge.SetResolveCoincidentTopologyToPolygonOffset()\n",
      "\n",
      "# Set the surfacing for the wireframe\n",
      "mapperEdge.ScalarVisibilityOff();\n",
      "actorEdge.GetProperty().SetColor(.55, .55, .55)\n",
      "actorEdge.GetProperty().SetAmbient(1.0)\n",
      "actorEdge.GetProperty().SetDiffuse(0.0)\n",
      "actorEdge.GetProperty().SetSpecular(0.0)\n",
      "\n",
      "# TODO - Create and Actor (actorSurf) with for color=(.3,.1,.1),ambient=100%, Diffuse=50%, Specular=25%, Opacity=55%\n"
     ],
     "language": "python",
     "metadata": {},
     "outputs": [],
     "prompt_number": 3
    },
    {
     "cell_type": "markdown",
     "metadata": {},
     "source": [
      "<a id=\"renderer\">\n",
      "###Renderer</a>\n"
     ]
    },
    {
     "cell_type": "code",
     "collapsed": false,
     "input": [
      "# Create the Renderer as a function of the Actor\n",
      "renderer = vtkRenderer()\n",
      "renderer.AddActor(actorEdge)\n",
      "\n",
      "# TODO - Add your actorSurf to the renderer\n",
      "\n",
      "# Set background RGB color (mathing Paraviews)\n",
      "renderer.SetBackground(.32, .34, .43) \n",
      "\n",
      "# Create an interactive RendererWindow as a function of the Renderer\n",
      "# NOTE this will be external to the Notebook!!!\n",
      "rendWin = vtkRenderWindow()\n",
      "rendWin.AddRenderer(renderer)\n",
      "\n",
      "# TODO - Add a windowName to your interactive render window and set its Size to 600x600\n",
      "\n",
      "# Create the RendererWindowInteractor and display the Renderer\n",
      "irend = vtkRenderWindowInteractor()\n",
      "irend.SetRenderWindow(rendWin)\n",
      "irend.Initialize()\n",
      "irend.Start()"
     ],
     "language": "python",
     "metadata": {},
     "outputs": [],
     "prompt_number": 4
    },
    {
     "cell_type": "code",
     "collapsed": false,
     "input": [],
     "language": "python",
     "metadata": {},
     "outputs": [],
     "prompt_number": 4
    }
   ],
   "metadata": {}
  }
 ]
}