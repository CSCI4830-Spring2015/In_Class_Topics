{
 "metadata": {
  "name": "",
  "signature": "sha256:4129761ec9cd9bda45d3afe1232f3f78ec61115fdeb4cbfbaf2a7f5c16e8f6d6"
 },
 "nbformat": 3,
 "nbformat_minor": 0,
 "worksheets": [
  {
   "cells": [
    {
     "cell_type": "markdown",
     "metadata": {},
     "source": [
      "# Basics\n",
      "\n",
      "## Modules\n",
      "\n",
      "Use the function ```cos``` from the ```numpy``` module on the following list and print the result"
     ]
    },
    {
     "cell_type": "code",
     "collapsed": false,
     "input": [
      "myList = [0.0, 3.14159/2.]"
     ],
     "language": "python",
     "metadata": {},
     "outputs": []
    },
    {
     "cell_type": "code",
     "collapsed": false,
     "input": [],
     "language": "python",
     "metadata": {},
     "outputs": []
    },
    {
     "cell_type": "markdown",
     "metadata": {},
     "source": [
      "## What are the types of the following variables?"
     ]
    },
    {
     "cell_type": "code",
     "collapsed": false,
     "input": [
      "import numpy as np\n",
      "a = 1.24\n",
      "b = np.array([1., 2., 3.])\n",
      "c = \"Visualization\"\n",
      "d = [1,2,3,4]\n",
      "e = (1,2)"
     ],
     "language": "python",
     "metadata": {},
     "outputs": []
    },
    {
     "cell_type": "code",
     "collapsed": false,
     "input": [],
     "language": "python",
     "metadata": {},
     "outputs": []
    },
    {
     "cell_type": "markdown",
     "metadata": {},
     "source": [
      "## Lists\n",
      "\n",
      "Use the **```range```** function to create the following list: ```[-1, 0, 1, 2]```"
     ]
    },
    {
     "cell_type": "code",
     "collapsed": false,
     "input": [
      "newList = "
     ],
     "language": "python",
     "metadata": {},
     "outputs": []
    },
    {
     "cell_type": "markdown",
     "metadata": {},
     "source": [
      "### Slicing\n",
      "\n",
      "Print the last 2 element of the previous list "
     ]
    },
    {
     "cell_type": "code",
     "collapsed": false,
     "input": [],
     "language": "python",
     "metadata": {},
     "outputs": []
    },
    {
     "cell_type": "markdown",
     "metadata": {},
     "source": [
      "## The ```for``` loop\n",
      "\n",
      "Print each element of the previous list using a loop"
     ]
    },
    {
     "cell_type": "code",
     "collapsed": false,
     "input": [],
     "language": "python",
     "metadata": {},
     "outputs": []
    },
    {
     "cell_type": "markdown",
     "metadata": {},
     "source": [
      "## Function\n",
      "\n",
      "Write a function ```average``` that takes 4 tuples as argument. The functions returns the average value as a tuple, e.g.\n",
      "\n",
      "```average( (0,0), (0,1), (1,1), (1,0)) -> (0.5, 0.5)```"
     ]
    },
    {
     "cell_type": "code",
     "collapsed": false,
     "input": [
      "def average():"
     ],
     "language": "python",
     "metadata": {},
     "outputs": []
    },
    {
     "cell_type": "code",
     "collapsed": false,
     "input": [
      "a = average((0,0), (0,1), (1,1), (1,0))\n",
      "print(a)"
     ],
     "language": "python",
     "metadata": {},
     "outputs": []
    },
    {
     "cell_type": "markdown",
     "metadata": {},
     "source": [
      "## Numpy\n",
      "\n",
      "What is the \n",
      "- shape\n",
      "- size\n",
      "- data type \n",
      "of the following array"
     ]
    },
    {
     "cell_type": "code",
     "collapsed": false,
     "input": [
      "import numpy as np\n",
      "M = np.array([ [1., 2., 3.],[4., 5., 6.], [7., 8., 9.]], dtype=np.float64)\n",
      "print M"
     ],
     "language": "python",
     "metadata": {},
     "outputs": []
    },
    {
     "cell_type": "code",
     "collapsed": false,
     "input": [],
     "language": "python",
     "metadata": {},
     "outputs": []
    },
    {
     "cell_type": "markdown",
     "metadata": {},
     "source": [
      "### Extract data from the array\n",
      "\n",
      "Extract the first row and 2nd column into **```r```** and **```c```** from the matrix **```M```**"
     ]
    },
    {
     "cell_type": "code",
     "collapsed": false,
     "input": [
      "r =\n",
      "print(r)\n",
      "c =\n",
      "print(c)"
     ],
     "language": "python",
     "metadata": {},
     "outputs": []
    },
    {
     "cell_type": "markdown",
     "metadata": {},
     "source": [
      "### Assign values to the extracted colum\n",
      "\n",
      "Set the values of the column ```c``` to -1"
     ]
    },
    {
     "cell_type": "code",
     "collapsed": false,
     "input": [
      "c?? = -1.\n",
      "print(M)"
     ],
     "language": "python",
     "metadata": {},
     "outputs": []
    },
    {
     "cell_type": "markdown",
     "metadata": {},
     "source": [
      "#### Explain what happens and why"
     ]
    },
    {
     "cell_type": "markdown",
     "metadata": {},
     "source": []
    }
   ],
   "metadata": {}
  }
 ]
}