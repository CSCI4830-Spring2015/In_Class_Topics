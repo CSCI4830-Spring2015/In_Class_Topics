{
 "metadata": {
  "name": "",
  "signature": "sha256:483bb1f8082ce4c7b0ae803f410078f8264f71008aeae9224a2661f01069cec5"
 },
 "nbformat": 3,
 "nbformat_minor": 0,
 "worksheets": [
  {
   "cells": [
    {
     "cell_type": "heading",
     "level": 1,
     "metadata": {},
     "source": [
      "Encapsulating NetCDF."
     ]
    },
    {
     "cell_type": "markdown",
     "metadata": {},
     "source": [
      "Tue 7th Feb 2015"
     ]
    },
    {
     "cell_type": "markdown",
     "metadata": {},
     "source": [
      "<hr>"
     ]
    },
    {
     "cell_type": "markdown",
     "metadata": {},
     "source": [
      "We will start to work on the homework for Topic 2.\n",
      "\n",
      "Steps that are involved:\n",
      "1. <a href=\"#vnetcdf\">Creating a class.</a>\n",
      "2. <a href=\"#unittest\">Writing unit tests.</a>\n",
      "3. <a href=\"#example\">Running the example.</a>"
     ]
    },
    {
     "cell_type": "markdown",
     "metadata": {},
     "source": [
      "<a id=\"vnetcdf\">\n",
      "###VnetCDF Class</a>\n",
      "\n",
      "This is a basic framework for encapsulating the NetCDF module."
     ]
    },
    {
     "cell_type": "code",
     "collapsed": false,
     "input": [
      "''' This module contains the visualization encapsulation of a \n",
      "NetCDF file.'''\n",
      "__all__=[] # prevent accidental \"from viz.VnetCDF import *\"\n",
      "\n",
      "import numpy     as np\n",
      "import netCDF4   as nc\n",
      "\n",
      "class VnetCDF(object):\n",
      "    \n",
      "    ''' This is a encapsulation class for a NetCDF file. To be expanded\n",
      "    upon and used in the Visualization course. It will primarily wrap a\n",
      "    single file.\n",
      "    \n",
      "    NOTE: You should call the close() method just before destroying the\n",
      "          object. As this closes the file and will flush all data to disk.\n",
      "    '''\n",
      "    \n",
      "    def __init__(self, filename=None):\n",
      "        '''Create a new visualization NetCDF object.\n",
      "        Arguments are:\n",
      "            filename -- The NetCDF file name.\n",
      "        '''\n",
      "        self._filename = None\n",
      "        self._ds       = None\n",
      "        self._ndims    = None\n",
      "\n",
      "        if filename:\n",
      "            self._filename = filename\n",
      "            try:\n",
      "                self._ds       = nc.Dataset(filename, mode=\"r+\")\n",
      "            except Exception as e:\n",
      "                print \"Error with %s: %s\" %(filename, e)\n",
      "                raise\n",
      "                \n",
      "    def __enter__(self):\n",
      "        return self\n",
      "    \n",
      "    def __exit__(self, type, value, tb):\n",
      "        self.close()\n",
      "        \n",
      "    \n",
      "    def close(self):\n",
      "        '''Close the NetCDF file.''' \n",
      "        if self._ds:\n",
      "            self._ds.close()\n",
      "            \n",
      "    @property\n",
      "    def filename(self):\n",
      "        '''The NetCDF filename.'''\n",
      "        return self._filename\n",
      "    \n",
      "    @property\n",
      "    def ndims(self):\n",
      "        '''The number of dimensions.'''\n",
      "        self._ndims = len(self._ds.dimensions)\n",
      "        return self._ndims\n",
      "    \n",
      "    def get_global_dim_names(self):\n",
      "        '''Get the global dimension names.'''\n",
      "        return ['a', 'b', 'c']"
     ],
     "language": "python",
     "metadata": {},
     "outputs": []
    },
    {
     "cell_type": "markdown",
     "metadata": {},
     "source": [
      "<a id=\"unittest\">\n",
      "###Unit Tests</a>\n",
      "\n",
      "We will write a unit test for each function in the class.\n",
      "\n",
      "Creating a test suite that runs all the tests."
     ]
    },
    {
     "cell_type": "code",
     "collapsed": false,
     "input": [
      "import unittest\n",
      "\n",
      "class TestVnetcdf(unittest.TestCase):\n",
      "    \n",
      "    def setUp(self):\n",
      "        self.vnetcdf = VnetCDF('tos_O1_2001-2002.nc')\n",
      "        \n",
      "    def test_ndims(self):\n",
      "        expected = 4\n",
      "        ndims = self.vnetcdf.ndims\n",
      "        self.assertEqual(ndims, expected,\n",
      "                         'incorrect number of dimensions')\n",
      "        \n",
      "    def test_get_global_dim_names(self):\n",
      "        expected = ['a', 'b', 'c']\n",
      "        names = self.vnetcdf.get_global_dim_names()\n",
      "        self.assertListEqual(names, expected,\n",
      "                             'incorrect global dimension names')\n",
      "        \n",
      "def suite():\n",
      "    tests = ['test_ndims',\n",
      "             'test_get_global_dim_names']\n",
      "    return unittest.TestSuite(map(TestVnetcdf, tests))\n",
      "    \n",
      "if __name__ == '__main__':\n",
      "    runner = unittest.TextTestRunner()\n",
      "    tests = suite()\n",
      "    runner.run(tests)"
     ],
     "language": "python",
     "metadata": {},
     "outputs": []
    },
    {
     "cell_type": "markdown",
     "metadata": {},
     "source": [
      "<a id=\"example\">\n",
      "###Running The Example</a>"
     ]
    },
    {
     "cell_type": "code",
     "collapsed": false,
     "input": [
      "def foo():\n",
      "    a = VnetCDF('tos_O1_2001-2002.nc')\n",
      "    print a.ndims\n",
      "    x = a.get_global_dim_names()\n",
      "    print x\n",
      "    for var in a.get_global_dim_names():\n",
      "        print var\n",
      "    a.close()\n",
      "\n",
      "foo()    \n",
      "    \n",
      "#with VnetCDF('tos_O1_2001-2002.nc') as b:\n",
      "#    print b.ndims\n",
      "\n",
      "#c = VnetCDF('tos_O1_2001-2002.nc')\n",
      "#with c as d:\n",
      "#    print d.ndims\n",
      "\n"
     ],
     "language": "python",
     "metadata": {},
     "outputs": []
    },
    {
     "cell_type": "code",
     "collapsed": false,
     "input": [],
     "language": "python",
     "metadata": {},
     "outputs": []
    }
   ],
   "metadata": {}
  }
 ]
}