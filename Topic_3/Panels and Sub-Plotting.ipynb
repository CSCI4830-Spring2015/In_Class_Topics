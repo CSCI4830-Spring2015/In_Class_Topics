{
 "metadata": {
  "name": "",
  "signature": "sha256:278f8da6f6302f1fb7230db5810b956f5c71b0eee43a758798e2a6cdab6a2e59"
 },
 "nbformat": 3,
 "nbformat_minor": 0,
 "worksheets": [
  {
   "cells": [
    {
     "cell_type": "heading",
     "level": 1,
     "metadata": {
      "slideshow": {
       "slide_type": "slide"
      }
     },
     "source": [
      "Python Subplots and Histograms"
     ]
    },
    {
     "cell_type": "heading",
     "level": 3,
     "metadata": {
      "slideshow": {
       "slide_type": "subslide"
      }
     },
     "source": [
      "Tue 2nd Feb 2015"
     ]
    },
    {
     "cell_type": "markdown",
     "metadata": {
      "slideshow": {
       "slide_type": "skip"
      }
     },
     "source": [
      "<hr>"
     ]
    },
    {
     "cell_type": "markdown",
     "metadata": {
      "slideshow": {
       "slide_type": "slide"
      }
     },
     "source": [
      "Today we are going to use last weeks daily weather for Boulder from NOAA/NWS and the python .cvs code we wrote and extend it to add a second plot to the same figure.\n",
      "\n",
      "We will be looking at:\n",
      "\n",
      "1. <a href=\"#goal\">Our Goal: Subplots and bar plots.</a>\n",
      "2. <a href=\"#gallery\">Matplotlib Gallery.</a>\n",
      "3. <a href=\"#esrlcode\">Last weeks ESRL python code.</a>\n",
      "4. <a href=\"#mmean\">Monthly mean temperatures.</a>\n",
      "5. <a href=\"#subplots\">Subplots.</a>\n"
     ]
    },
    {
     "cell_type": "markdown",
     "metadata": {
      "slideshow": {
       "slide_type": "skip"
      }
     },
     "source": [
      "<hr>"
     ]
    },
    {
     "cell_type": "markdown",
     "metadata": {},
     "source": [
      "<a id=\"goal\">\n",
      "###Our Goal: Subplots and bar plots</a>\n",
      "\n",
      "* Matplotlib Gallery\n",
      "* We'll modify last weeks ESRL code to add subplotting\n",
      "* The top plot will be our same scatter plot of 'Daily Maximum Temperatures'\n",
      "* The bottom plot will be a new bar plot plot of monthly mean daily maximum temperatures'\n"
     ]
    },
    {
     "cell_type": "markdown",
     "metadata": {},
     "source": [
      "<a id=\"gallery\">\n",
      "###Matplotlib Gallery</a>\n",
      "Pythons matplotlib is extensive and contains all the plotting functionality Matlabhas plus more. Its nearly impossible to remember it all so your best friend is (or will be) the matplotlib galley (http://matplotlib.org/gallery.html)\n",
      "\n",
      "* Subplot\n",
      "* Bar plot\n",
      "* Histogram\n",
      "\n"
     ]
    },
    {
     "cell_type": "markdown",
     "metadata": {
      "slideshow": {
       "slide_type": "slide"
      }
     },
     "source": [
      "<a id=\"esrl code\">\n",
      "###Last weeks ESRL python code</a>\n",
      "\n",
      "We start of by reproducing last weeks python code to get and extract weather information from ESRL for Boulder weather statistics.\n",
      "\n",
      "Note, we will be replacing our old plotting code with new subplotting code so I have removed out plotting code for now.\n"
     ]
    },
    {
     "cell_type": "code",
     "collapsed": false,
     "input": [
      "%matplotlib inline"
     ],
     "language": "python",
     "metadata": {},
     "outputs": []
    },
    {
     "cell_type": "code",
     "collapsed": false,
     "input": [
      "import urllib2\n",
      "import StringIO as sio\n",
      "import itertools as itt\n",
      "import datetime as dt\n",
      "import numpy as np\n",
      "import matplotlib.pyplot as plt\n",
      "\n",
      "col_dtypes= [('ymd', int, 3),\n",
      "             ('tmax', float),\n",
      "             ('tmin', float),\n",
      "             ('pcep', float),\n",
      "             ('snow', float),\n",
      "             ('scvr', float),\n",
      "            ]\n",
      "\n",
      "def cdate(x):\n",
      "    return dt.datetime(int(x[0]), int(x[1]), int(x[2]))\n",
      "\n",
      "# define the URL and load the raw data\n",
      "durl  = \"http://www.esrl.noaa.gov/psd/boulder/data/boulderdaily.complete\"\n",
      "dres  = urllib2.urlopen(durl)\n",
      "dall = sio.StringIO(dres.read())\n",
      "\n",
      "# Filter out only data from 2012\n",
      "year = \"2012\"\n",
      "\n",
      "# slurp in the data\n",
      "data = np.genfromtxt(itt.ifilter(lambda x: x.strip().startswith(year), dall),\n",
      "                     dtype=col_dtypes,\n",
      "                     filling_values=(-999))\n",
      "\n",
      "dates = np.array([cdate(x) for x in data['ymd']])\n",
      "\n",
      "# If we don't have a connection in class\n",
      "#data = np.genfromtxt('boulder_daily.csv',\n",
      "#                     delimiter=\",\",\n",
      "#                     dtype=col_dtypes,\n",
      "#                     filling_values=(-998))\n",
      "#                     converters={1: cdate})\n",
      "\n",
      "tmax_avg = np.mean(data['tmax'])\n",
      "tmax_low = np.amin(data['tmax'])\n",
      "tmax_hig = np.amax(data['tmax'])\n"
     ],
     "language": "python",
     "metadata": {
      "slideshow": {
       "slide_type": "subslide"
      }
     },
     "outputs": []
    },
    {
     "cell_type": "markdown",
     "metadata": {},
     "source": [
      "<a id=\"mmean\">\n",
      "###Monthly mean temperatures</a>\n",
      "For our bottom plot we want to calculate the monthly average of the daily maximum temperatures. Since each month has a different number of days we will iterate over an array to calculate the means for each month.\n",
      "Note: 2002 is a special year. Why?"
     ]
    },
    {
     "cell_type": "code",
     "collapsed": false,
     "input": [
      "m=0\n",
      "mnthMean = [] \n",
      "mnths = np.array([31,29,31, 30, 31, 30, 31, 31, 30, 31,30,31])  # Days in each month\n",
      "\n",
      "#Calculate the monthly means\n",
      "for i in range(0,12):\n",
      "    mnthMean.append(np.mean(data['tmax'][m:m+mnths[i]]))\n",
      "    m = m+mnths[i]\n",
      "\n",
      "#print mnthMean    "
     ],
     "language": "python",
     "metadata": {},
     "outputs": []
    },
    {
     "cell_type": "markdown",
     "metadata": {},
     "source": [
      "<a id=\"subplots\">\n",
      "###Creating Subplots</a>\n",
      "Like Matlab, python subplots allow you to add more then one plot per figure. Again assuming we want some guidance in creating a subplot we go to matplotlib's gallery page (http://matplotlib.org/1.2.1/gallery.html). \n",
      "Using 'Quick Search' type in 'subplot' then hit 'Go'\n",
      "Note that there are two really promising links that result from our search.\n",
      "'matplotlib.pyplot.subplot' and 'Our Favorite Recipies' both give you a quick start on creating subplots. Note the first link gives you the actual function documentation as well as an example!\n",
      "\n",
      "We want to create a plot that has two vertically stacked panels in it. In the top panel will produce the same plot we used last week, 'Daily Maximum Temperatures' using a scatter plot. In the bottom panel we will plot the same data but this time we will use a bar plot of the monthly average maximum daily temperture.\n"
     ]
    },
    {
     "cell_type": "code",
     "collapsed": false,
     "input": [
      "fig = plt.figure(1) \n",
      "\n",
      "lMnths=('J', 'F', 'M', 'A', 'M','J','J','A','S','O','N','D') # x-axis labels\n",
      "nMnths = np.arange(np.shape(mnthMean)[0])                    # x-axis\n",
      "width = 0.5                                                  # Bar width\n",
      "\n",
      "# Create top panel\n",
      "ax1.plot_date(dates, data['tmax'])\n",
      "ax1.axhline(tmax_avg, color='r')\n",
      "ax1.set_title('Daily Maximum Temperatures') \n",
      "ax1.set_xlabel('Date')\n",
      "ax1.set_ylabel(u'Temperature [\u00b0F]')\n",
      "\n",
      "# Create bottom panel\n",
      "\n",
      "\n",
      "#Save the figure to disk\n",
      "\n",
      "#Show the plot\n",
      "plt.show()\n"
     ],
     "language": "python",
     "metadata": {},
     "outputs": []
    },
    {
     "cell_type": "code",
     "collapsed": false,
     "input": [],
     "language": "python",
     "metadata": {},
     "outputs": []
    }
   ],
   "metadata": {}
  }
 ]
}