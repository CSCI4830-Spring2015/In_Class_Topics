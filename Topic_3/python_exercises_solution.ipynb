{
 "metadata": {
  "name": "",
  "signature": "sha256:6ed9bd5e2272ca45d0ff000f397991035569a222ebfe80851497032c7afacdbd"
 },
 "nbformat": 3,
 "nbformat_minor": 0,
 "worksheets": [
  {
   "cells": [
    {
     "cell_type": "markdown",
     "metadata": {},
     "source": [
      "# Basics\n",
      "\n",
      "## Modules\n",
      "\n",
      "Use the function ```cos``` from the ```numpy``` module on the following list and print the result"
     ]
    },
    {
     "cell_type": "code",
     "collapsed": false,
     "input": [
      "myList = [0.0, 3.14159/2.]"
     ],
     "language": "python",
     "metadata": {},
     "outputs": [],
     "prompt_number": 1
    },
    {
     "cell_type": "code",
     "collapsed": false,
     "input": [
      "import numpy as np\n",
      "\n",
      "np.cos(myList)"
     ],
     "language": "python",
     "metadata": {},
     "outputs": [
      {
       "metadata": {},
       "output_type": "pyout",
       "prompt_number": 2,
       "text": [
        "array([  1.00000000e+00,   1.32679490e-06])"
       ]
      }
     ],
     "prompt_number": 2
    },
    {
     "cell_type": "markdown",
     "metadata": {},
     "source": [
      "## What are the types of the following variables?"
     ]
    },
    {
     "cell_type": "code",
     "collapsed": false,
     "input": [
      "import numpy as np\n",
      "a = 1.24\n",
      "b = np.array([1., 2., 3.])\n",
      "c = \"Visualization\"\n",
      "d = [1,2,3,4]\n",
      "e = (1,2)"
     ],
     "language": "python",
     "metadata": {},
     "outputs": [],
     "prompt_number": 3
    },
    {
     "cell_type": "code",
     "collapsed": false,
     "input": [
      "print(type(a))\n",
      "print(type(b))\n",
      "print(type(c))\n",
      "print(type(d))\n",
      "print(type(e))"
     ],
     "language": "python",
     "metadata": {},
     "outputs": [
      {
       "output_type": "stream",
       "stream": "stdout",
       "text": [
        "<type 'float'>\n",
        "<type 'numpy.ndarray'>\n",
        "<type 'str'>\n",
        "<type 'list'>\n",
        "<type 'tuple'>\n"
       ]
      }
     ],
     "prompt_number": 5
    },
    {
     "cell_type": "markdown",
     "metadata": {},
     "source": [
      "## Lists\n",
      "\n",
      "Use the **```range```** function to create the following list: ```[-1, 0, 1, 2]```"
     ]
    },
    {
     "cell_type": "code",
     "collapsed": false,
     "input": [
      "newList = range(-1,3)\n",
      "print(newList)"
     ],
     "language": "python",
     "metadata": {},
     "outputs": [
      {
       "output_type": "stream",
       "stream": "stdout",
       "text": [
        "[-1, 0, 1, 2]\n"
       ]
      }
     ],
     "prompt_number": 6
    },
    {
     "cell_type": "markdown",
     "metadata": {},
     "source": [
      "### Slicing\n",
      "\n",
      "Print the last 2 element of the previous list "
     ]
    },
    {
     "cell_type": "code",
     "collapsed": false,
     "input": [
      "newList[-2:]"
     ],
     "language": "python",
     "metadata": {},
     "outputs": [
      {
       "metadata": {},
       "output_type": "pyout",
       "prompt_number": 7,
       "text": [
        "[1, 2]"
       ]
      }
     ],
     "prompt_number": 7
    },
    {
     "cell_type": "markdown",
     "metadata": {},
     "source": [
      "## The ```for``` loop\n",
      "\n",
      "Print each element of the previous list using a loop"
     ]
    },
    {
     "cell_type": "code",
     "collapsed": false,
     "input": [
      "for i in newList:\n",
      "    print(i)"
     ],
     "language": "python",
     "metadata": {},
     "outputs": [
      {
       "output_type": "stream",
       "stream": "stdout",
       "text": [
        "-1\n",
        "0\n",
        "1\n",
        "2\n"
       ]
      }
     ],
     "prompt_number": 8
    },
    {
     "cell_type": "markdown",
     "metadata": {},
     "source": [
      "## Function\n",
      "\n",
      "Write a function ```average``` that takes 4 tuples as argument. The functions returns the average value as a tuple, e.g.\n",
      "\n",
      "```average( (0,0), (0,1), (1,1), (1,0)) -> (0.5, 0.5)```"
     ]
    },
    {
     "cell_type": "code",
     "collapsed": false,
     "input": [
      "def average(a,b,c,d):\n",
      "    x = 0.25*(a[0] + b[0] + c[0] + d[0])\n",
      "    y = 0.25*(a[1] + b[1] + c[1] + d[1])\n",
      "    return (x,y)"
     ],
     "language": "python",
     "metadata": {},
     "outputs": [],
     "prompt_number": 11
    },
    {
     "cell_type": "code",
     "collapsed": false,
     "input": [
      "a = average((0,0), (0,1), (1,1), (1,0))\n",
      "print(a)"
     ],
     "language": "python",
     "metadata": {},
     "outputs": [
      {
       "output_type": "stream",
       "stream": "stdout",
       "text": [
        "(0.5, 0.5)\n"
       ]
      }
     ],
     "prompt_number": 12
    },
    {
     "cell_type": "markdown",
     "metadata": {},
     "source": [
      "## Numpy\n",
      "\n",
      "What is the \n",
      "- shape\n",
      "- size\n",
      "- data type \n",
      "of the following array"
     ]
    },
    {
     "cell_type": "code",
     "collapsed": false,
     "input": [
      "import numpy as np\n",
      "M = np.array([ [1., 2., 3.],[4., 5., 6.], [7., 8., 9.]], dtype=np.float64)\n",
      "print M"
     ],
     "language": "python",
     "metadata": {},
     "outputs": [
      {
       "output_type": "stream",
       "stream": "stdout",
       "text": [
        "[[ 1.  2.  3.]\n",
        " [ 4.  5.  6.]\n",
        " [ 7.  8.  9.]]\n"
       ]
      }
     ],
     "prompt_number": 14
    },
    {
     "cell_type": "code",
     "collapsed": false,
     "input": [
      "print(M.shape)\n",
      "print(M.size)\n",
      "print(M.dtype)"
     ],
     "language": "python",
     "metadata": {},
     "outputs": [
      {
       "output_type": "stream",
       "stream": "stdout",
       "text": [
        "(3, 3)\n",
        "9\n",
        "float64\n"
       ]
      }
     ],
     "prompt_number": 16
    },
    {
     "cell_type": "markdown",
     "metadata": {},
     "source": [
      "### Extract data from the array\n",
      "\n",
      "Extract the first row and 2nd column into **```r```** and **```c```** from the matrix **```M```**"
     ]
    },
    {
     "cell_type": "code",
     "collapsed": false,
     "input": [
      "r = M[0,:]\n",
      "print(r)\n",
      "c = M[:,1]\n",
      "print(c)"
     ],
     "language": "python",
     "metadata": {},
     "outputs": [
      {
       "output_type": "stream",
       "stream": "stdout",
       "text": [
        "[ 1.  2.  3.]\n",
        "[ 2.  5.  8.]\n"
       ]
      }
     ],
     "prompt_number": 17
    },
    {
     "cell_type": "markdown",
     "metadata": {},
     "source": [
      "### Assign values to the extracted colum\n",
      "\n",
      "Set the values of the column ```c``` to -1"
     ]
    },
    {
     "cell_type": "code",
     "collapsed": false,
     "input": [
      "c[:] = -1.\n",
      "print(M)"
     ],
     "language": "python",
     "metadata": {},
     "outputs": [
      {
       "output_type": "stream",
       "stream": "stdout",
       "text": [
        "[[ 1. -1.  3.]\n",
        " [ 4. -1.  6.]\n",
        " [ 7. -1.  9.]]\n"
       ]
      }
     ],
     "prompt_number": 18
    },
    {
     "cell_type": "markdown",
     "metadata": {},
     "source": [
      "#### Explain what happens and why"
     ]
    },
    {
     "cell_type": "markdown",
     "metadata": {},
     "source": [
      "```c``` is a refence of the data in ```M```\n",
      "--> changing ```c``` will change the orginal ```M```"
     ]
    },
    {
     "cell_type": "code",
     "collapsed": false,
     "input": [],
     "language": "python",
     "metadata": {},
     "outputs": []
    }
   ],
   "metadata": {}
  }
 ]
}