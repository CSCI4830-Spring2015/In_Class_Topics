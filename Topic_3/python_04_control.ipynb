{
 "metadata": {
  "css": [
   ""
  ],
  "name": "",
  "signature": "sha256:e70555fd60a91023842afe1c5b696601a3ea0fdbea223ef4c092b7f56699304f"
 },
 "nbformat": 3,
 "nbformat_minor": 0,
 "worksheets": [
  {
   "cells": [
    {
     "cell_type": "markdown",
     "metadata": {
      "slideshow": {
       "slide_type": "slide"
      }
     },
     "source": [
      "#Control Flow\n",
      "- Indention\n",
      "- `if, elif`, and `else`\n",
      "- `for` loops\n",
      "- `while` loops\n",
      "- `exception` handling"
     ]
    },
    {
     "cell_type": "markdown",
     "metadata": {
      "slideshow": {
       "slide_type": "slide"
      }
     },
     "source": [
      "##Indention\n",
      "\n",
      "There are no braces (`{,}`) around blocks of code in Python.  \n",
      "\n",
      "- Instead, python uses whitespace\n",
      "- Example `if` statement in `C++`\n",
      "\n",
      "<code><pre>\n",
      "if( value < 0){\n",
      "    std::cout << value << std::endl;\n",
      "}\n",
      "std::cout << \"done\" << std::endl;\n",
      "</pre></code>\n",
      "\n",
      "- In python, a colon (`:`) denotes the start of a block.\n",
      "\n",
      "<code><pre>\n",
      "if value < 0:\n",
      "    print value\n",
      "print done\n",
      "</pre></code>\n",
      "\n"
     ]
    },
    {
     "cell_type": "markdown",
     "metadata": {
      "slideshow": {
       "slide_type": "slide"
      }
     },
     "source": [
      "##`if`, `elif`, and `else`"
     ]
    },
    {
     "cell_type": "code",
     "collapsed": false,
     "input": [
      "cash = 1.1\n",
      "car = 3.1\n",
      "bus = 2.0\n",
      "if car < cash:\n",
      "    print 'Enjoy your car ride'\n",
      "elif bus < cash:\n",
      "    print 'Another one rides the bus'\n",
      "elif cash < 1.00:\n",
      "    print 'stay home'\n",
      "else:\n",
      "    print 'Walking..'"
     ],
     "language": "python",
     "metadata": {},
     "outputs": [
      {
       "output_type": "stream",
       "stream": "stdout",
       "text": [
        "Walking..\n"
       ]
      }
     ],
     "prompt_number": 4
    },
    {
     "cell_type": "markdown",
     "metadata": {},
     "source": [
      "If nothing `else`, walking."
     ]
    },
    {
     "cell_type": "markdown",
     "metadata": {
      "slideshow": {
       "slide_type": "slide"
      }
     },
     "source": [
      "###The `ternary` expression"
     ]
    },
    {
     "cell_type": "code",
     "collapsed": false,
     "input": [
      "action = 'car' if car < cash else 'walking' #one-liner\n",
      "\n",
      "print action"
     ],
     "language": "python",
     "metadata": {},
     "outputs": []
    },
    {
     "cell_type": "markdown",
     "metadata": {
      "slideshow": {
       "slide_type": "slide"
      }
     },
     "source": [
      "## The `for` loop"
     ]
    },
    {
     "cell_type": "code",
     "collapsed": false,
     "input": [
      "numbers = [1,2,3,4,5]\n",
      "for i in numbers:\n",
      "    print i"
     ],
     "language": "python",
     "metadata": {},
     "outputs": []
    },
    {
     "cell_type": "code",
     "collapsed": false,
     "input": [
      "for i in range(10,20):\n",
      "    print i,"
     ],
     "language": "python",
     "metadata": {},
     "outputs": []
    },
    {
     "cell_type": "code",
     "collapsed": false,
     "input": [
      "names = ['pat','jonh']\n",
      "for name in names:\n",
      "    print name"
     ],
     "language": "python",
     "metadata": {},
     "outputs": []
    },
    {
     "cell_type": "markdown",
     "metadata": {
      "slideshow": {
       "slide_type": "slide"
      }
     },
     "source": [
      "###`continue`\n",
      "\n",
      "You can skip part of the remaining block."
     ]
    },
    {
     "cell_type": "code",
     "collapsed": false,
     "input": [
      "for i in xrange(10):\n",
      "    print i,\n",
      "    if i % 2 == 0:\n",
      "        print 'even'\n",
      "        continue\n",
      "    print \"---\""
     ],
     "language": "python",
     "metadata": {},
     "outputs": []
    },
    {
     "cell_type": "markdown",
     "metadata": {
      "slideshow": {
       "slide_type": "slide"
      }
     },
     "source": [
      "### `break`\n",
      "\n",
      "Stop executing the entire loop."
     ]
    },
    {
     "cell_type": "code",
     "collapsed": false,
     "input": [
      "for i in xrange(10):\n",
      "    if i == 5:\n",
      "        break\n",
      "    print i"
     ],
     "language": "python",
     "metadata": {},
     "outputs": []
    },
    {
     "cell_type": "markdown",
     "metadata": {
      "slideshow": {
       "slide_type": "slide"
      }
     },
     "source": [
      "## The `while` loop"
     ]
    },
    {
     "cell_type": "code",
     "collapsed": false,
     "input": [
      "count = 0\n",
      "while (count < 10):\n",
      "   print count,\n",
      "   count += 1"
     ],
     "language": "python",
     "metadata": {},
     "outputs": []
    },
    {
     "cell_type": "markdown",
     "metadata": {},
     "source": [
      "When would you prefer a `while` loop to a `for` loop?"
     ]
    },
    {
     "cell_type": "markdown",
     "metadata": {
      "slideshow": {
       "slide_type": "slide"
      }
     },
     "source": [
      "##Exceptions\n",
      "\n",
      "Gracefully handling errors."
     ]
    },
    {
     "cell_type": "code",
     "collapsed": false,
     "input": [
      "num = '123.4d'\n",
      "print float(num)"
     ],
     "language": "python",
     "metadata": {},
     "outputs": []
    },
    {
     "cell_type": "code",
     "collapsed": false,
     "input": [
      "try:\n",
      "    print float(num)\n",
      "except ValueError, e:\n",
      "    print e\n",
      "    print 'This is called Duck Typing'"
     ],
     "language": "python",
     "metadata": {},
     "outputs": []
    },
    {
     "cell_type": "markdown",
     "metadata": {
      "slideshow": {
       "slide_type": "slide"
      }
     },
     "source": [
      "### Multiple exceptions"
     ]
    },
    {
     "cell_type": "code",
     "collapsed": false,
     "input": [
      "def example(values):\n",
      "    try:\n",
      "        print float(values)\n",
      "    except ValueError, e:\n",
      "        print e\n",
      "    except TypeError, e:\n",
      "        print e\n",
      "        \n",
      "example(['3','4'])\n",
      "example('A string?')"
     ],
     "language": "python",
     "metadata": {},
     "outputs": []
    },
    {
     "cell_type": "markdown",
     "metadata": {
      "slideshow": {
       "slide_type": "slide"
      }
     },
     "source": [
      "###`enumerate`\n",
      "\n",
      "Sometimes you want the index of a collection and the value.  For example:"
     ]
    },
    {
     "cell_type": "code",
     "collapsed": false,
     "input": [
      "names = ['Deborah','Carla','Mary','Susan']"
     ],
     "language": "python",
     "metadata": {},
     "outputs": []
    },
    {
     "cell_type": "code",
     "collapsed": false,
     "input": [
      "index = 0\n",
      "for name in names:\n",
      "    print index, names[index], name\n",
      "    index += 1"
     ],
     "language": "python",
     "metadata": {},
     "outputs": []
    },
    {
     "cell_type": "code",
     "collapsed": false,
     "input": [
      "for i, name in enumerate(names):\n",
      "    print i, name"
     ],
     "language": "python",
     "metadata": {},
     "outputs": []
    },
    {
     "cell_type": "markdown",
     "metadata": {
      "slideshow": {
       "slide_type": "slide"
      }
     },
     "source": [
      "### `sorted`\n",
      "\n",
      "- Different than the list method `sort`.\n",
      "- A copy of a stored list."
     ]
    },
    {
     "cell_type": "code",
     "collapsed": false,
     "input": [
      "print sorted(names)"
     ],
     "language": "python",
     "metadata": {},
     "outputs": []
    },
    {
     "cell_type": "code",
     "collapsed": false,
     "input": [
      "for name in sorted(names):\n",
      "    print name,"
     ],
     "language": "python",
     "metadata": {},
     "outputs": []
    },
    {
     "cell_type": "markdown",
     "metadata": {
      "slideshow": {
       "slide_type": "slide"
      }
     },
     "source": [
      "###`reversed`\n",
      "- A reverse iterator (e.g. not a list)"
     ]
    },
    {
     "cell_type": "code",
     "collapsed": false,
     "input": [
      "for i in reversed(names):\n",
      "    print i,"
     ],
     "language": "python",
     "metadata": {},
     "outputs": []
    },
    {
     "cell_type": "code",
     "collapsed": false,
     "input": [
      "print list(reversed(names))"
     ],
     "language": "python",
     "metadata": {},
     "outputs": []
    },
    {
     "cell_type": "code",
     "collapsed": false,
     "input": [
      "print names"
     ],
     "language": "python",
     "metadata": {},
     "outputs": []
    },
    {
     "cell_type": "markdown",
     "metadata": {
      "slideshow": {
       "slide_type": "slide"
      }
     },
     "source": [
      "###`zip`\n",
      "\n"
     ]
    },
    {
     "cell_type": "code",
     "collapsed": false,
     "input": [
      "last = ['Smith','Mason','Carter','Dee']\n",
      "print last\n",
      "print names"
     ],
     "language": "python",
     "metadata": {},
     "outputs": []
    },
    {
     "cell_type": "code",
     "collapsed": false,
     "input": [
      "together = zip(names, last)\n",
      "print together"
     ],
     "language": "python",
     "metadata": {},
     "outputs": []
    },
    {
     "cell_type": "code",
     "collapsed": false,
     "input": [
      "for index, pair in  enumerate(zip(names,last)):\n",
      "    print index, pair[0], pair[1]"
     ],
     "language": "python",
     "metadata": {},
     "outputs": []
    },
    {
     "cell_type": "markdown",
     "metadata": {
      "slideshow": {
       "slide_type": "slide"
      }
     },
     "source": [
      "### Comprehension\n",
      "\n",
      "The Python *consise* expression."
     ]
    },
    {
     "cell_type": "code",
     "collapsed": false,
     "input": [
      "names.append(\"Dan\")\n",
      "print names"
     ],
     "language": "python",
     "metadata": {},
     "outputs": []
    },
    {
     "cell_type": "markdown",
     "metadata": {},
     "source": [
      "Create a list of just names that start with `d`"
     ]
    },
    {
     "cell_type": "code",
     "collapsed": false,
     "input": [
      "dnames = []\n",
      "for name in names:\n",
      "    if name.startswith('D'):\n",
      "        dnames.append(name.lower())\n",
      "print dnames"
     ],
     "language": "python",
     "metadata": {},
     "outputs": []
    },
    {
     "cell_type": "markdown",
     "metadata": {
      "slideshow": {
       "slide_type": "slide"
      }
     },
     "source": [
      "### List Comprehension: the \"Python way\""
     ]
    },
    {
     "cell_type": "code",
     "collapsed": false,
     "input": [
      "dnames = None\n",
      "dnames = [name.lower() for name in names if name.startswith('D')]"
     ],
     "language": "python",
     "metadata": {},
     "outputs": []
    },
    {
     "cell_type": "code",
     "collapsed": false,
     "input": [
      "print dnames"
     ],
     "language": "python",
     "metadata": {},
     "outputs": []
    },
    {
     "cell_type": "markdown",
     "metadata": {
      "slideshow": {
       "slide_type": "slide"
      }
     },
     "source": [
      "### Dictonary `items()`"
     ]
    },
    {
     "cell_type": "code",
     "collapsed": false,
     "input": [
      "d = {'a': 10, 'b': 20, 'c': 30}"
     ],
     "language": "python",
     "metadata": {},
     "outputs": []
    },
    {
     "cell_type": "code",
     "collapsed": false,
     "input": [
      "for i in d.keys():\n",
      "    print i, d[i]"
     ],
     "language": "python",
     "metadata": {},
     "outputs": []
    },
    {
     "cell_type": "code",
     "collapsed": false,
     "input": [
      "for k, v in d.items():\n",
      "    print k, v"
     ],
     "language": "python",
     "metadata": {},
     "outputs": []
    }
   ],
   "metadata": {}
  }
 ]
}