{
 "metadata": {
  "name": "",
  "signature": "sha256:c5d62b56e643d7f454714e9844a5200fc97068564d484acd5328c52fcb6b644c"
 },
 "nbformat": 3,
 "nbformat_minor": 0,
 "worksheets": [
  {
   "cells": [
    {
     "cell_type": "markdown",
     "metadata": {},
     "source": [
      "#TOPIC 02: Writing and Reading netCDF files"
     ]
    },
    {
     "cell_type": "markdown",
     "metadata": {},
     "source": [
      "##Creating a new netCDF file and Dataset##\n",
      "The first thing we need to do is create a new netCDF 'Dataset'\n",
      "The Dataset is a single super-container for groups, dimensions, variables and attributes. For this example we will ignore groups, but think of groups as sub-containers which hold their own dimensions, variables and attributes. \n",
      "\n",
      "We will use three parameters to create our Dataset file; file name, mode, and format. (eg. Dataset('filename', mode, format))\n",
      "\n",
      "####mode####\n",
      "- 'w' will write a new file. Note it will over write any file with the same file name (this can be be prevented by setting the 'clobber' parameter to false)\n",
      "- 'a' appends data to a file\n",
      "- 'r' reads data from a file (default setting)\n",
      "\n",
      "####format####\n",
      "- 'NETCDF3_CLASSIC', \n",
      "- 'NETCDF3_64BIT', \n",
      "- 'NETCDF4_CLASSIC' uses HDF5 for the underlying storage layer but enforces the classic netCDF 3 data model.\n",
      "- 'NETCDF4' also uses HDF5 but uses the new netCDF4 model(default setting) \n",
      "\n"
     ]
    },
    {
     "cell_type": "code",
     "collapsed": false,
     "input": [
      "from netCDF4 import Dataset    \n",
      "import numpy as np\n",
      "\n",
      "# open a new netCDF file to write to\n",
      "ncfile = Dataset('example_3D_dataset.nc',mode='w', format='NETCDF4') "
     ],
     "language": "python",
     "metadata": {},
     "outputs": [],
     "prompt_number": 1
    },
    {
     "cell_type": "markdown",
     "metadata": {},
     "source": [
      "##Dimensions##\n",
      "Think of a dimension as something like a literal dimension such as an x-axis, time, temperature, height, ect...\n",
      "\n",
      "Each dimension you create has a 'name' and a 'length' and is created with the function createDimension('name', length)\n",
      "- 'name' is the variable name you give the dimension\n",
      "- 'length' is the length (size) of the dimension. Setting the length to 0 or 'None' creates an unlimited size dimension, meaning it can grow dynamically. Note in anything less then the 'NETCDF4' format only one dimension per group can be unlimited."
     ]
    },
    {
     "cell_type": "code",
     "collapsed": false,
     "input": [
      "# create 3 dimensions x,y,z each with size 4. Note the lengths do not have to be the same!\n",
      "x_dim  = ncfile.createDimension('x',4)\n",
      "y_dim  = ncfile.createDimension('y',4)\n",
      "z_dim  = ncfile.createDimension('z',4)\n",
      "\n",
      "# get the size of each dimension\n",
      "size_x = len(x_dim)\n",
      "size_y = len(y_dim)\n",
      "size_z = len(z_dim)"
     ],
     "language": "python",
     "metadata": {},
     "outputs": [],
     "prompt_number": 2
    },
    {
     "cell_type": "markdown",
     "metadata": {},
     "source": [
      "##Variables##\n",
      "Variables are the variables that hold the literal data for each dimension. (eg. a 3D grid with latitude, longitude and height)\n",
      "\n",
      "A variable has three manadatory parameters; name, datatype, and data values and is created with the function createVariable('name', datatype, shape, data-values).\n",
      "\n",
      "\n",
      "- 'name' (string). This is the variable object 'name' which is sotred in the 'variables' dictionary\n",
      "- 'datatype' the 'type' of data being stored (eg ints, floats, complexe, ect.. most numpy datatypes are supported)  \n",
      "- 'data-values' a tuple of the dimension names.  \n",
      "- There are many optional arguments, many unique to format='NETCDF4'. (eg. compression controls, chunking, fill_value, units, long_name, ect...)\n"
     ]
    },
    {
     "cell_type": "code",
     "collapsed": false,
     "input": [
      "# create the variable (4 byte integer in this case)\n",
      "# first argument is name of variable, second is datatype, third is\n",
      "# a tuple with the names of dimensions.\n",
      "vx = ncfile.createVariable('x', np.float32, ('x',))\n",
      "vx.units = 'degrees'\n",
      "vx.long_name = 'x data'\n",
      "\n",
      "vy = ncfile.createVariable('y', np.float32, ('y',))\n",
      "vy.units = 'degrees'\n",
      "vy.long_name = 'y data'\n",
      "\n",
      "vz = ncfile.createVariable('z', np.float32, ('z',))\n",
      "vz.units = 'cm'\n",
      "vz.long_name = 'z data'"
     ],
     "language": "python",
     "metadata": {},
     "outputs": [],
     "prompt_number": 3
    },
    {
     "cell_type": "markdown",
     "metadata": {},
     "source": [
      "##Writing Data##\n",
      "To write the data to your variable object(s), just assign the values like you do for a numpy array using slicing (eg. variable[:])"
     ]
    },
    {
     "cell_type": "code",
     "collapsed": false,
     "input": [
      "# write data to variable.\n",
      "vx[:] = 180. + (180./size_x)*np.arange(size_x)\n",
      "vy[:] =  90. + (180./size_y)*np.arange(size_y)\n",
      "vz[:] = (180./size_z)*np.arange(size_z)"
     ],
     "language": "python",
     "metadata": {},
     "outputs": [],
     "prompt_number": 4
    },
    {
     "cell_type": "markdown",
     "metadata": {},
     "source": [
      "##Adding attributes##\n",
      "Attributes are descriptive metadata giving the user any and all information desired.  Note that there is a whole guideline for proper 'NetCDF CF Metadata Conventions' which can be found at 'http://cfconventions.org/'. But we will be footloose and fancy free in our example.\n",
      "Note: the atrributes can be created and written at any point but the dimensions generally have to be done before the variables. "
     ]
    },
    {
     "cell_type": "code",
     "collapsed": false,
     "input": [
      "# lets add some attributes to describe us and our Dataset\n",
      "ncfile.title  = 'Sample 3D dataset'\n",
      "ncfile.date   = 'Tuesday, Jan 27 2015'\n",
      "ncfile.author = 'Yours truely'\n",
      "ncfile.motto  = 'Having fun in the process - thats our motto!'\n",
      "ncfile.description = 'A dataset with 3 dimensions, x,y,z filled with some funky degree information'"
     ],
     "language": "python",
     "metadata": {},
     "outputs": [],
     "prompt_number": 5
    },
    {
     "cell_type": "markdown",
     "metadata": {},
     "source": [
      "##Closing the Dataset file##\n",
      "As with all files never forget to close the file we opened!"
     ]
    },
    {
     "cell_type": "code",
     "collapsed": false,
     "input": [
      "# close the file.\n",
      "ncfile.close()\n",
      "print 'File Successfully Written!'"
     ],
     "language": "python",
     "metadata": {},
     "outputs": [
      {
       "output_type": "stream",
       "stream": "stdout",
       "text": [
        "File Successfully Written!\n"
       ]
      }
     ],
     "prompt_number": 6
    },
    {
     "cell_type": "markdown",
     "metadata": {},
     "source": [
      "##Reading our netCDF file with ncdump##\n",
      "Using the setup we created in the 'Topic02_FileFormats_Tutorial' we can view our new netCDF file."
     ]
    },
    {
     "cell_type": "code",
     "collapsed": false,
     "input": [
      "def get_ncdump(fName, header_only=0):\n",
      "    if header_only:\n",
      "        szDump = %system ncdump.exe -h $fName\n",
      "    else:\n",
      "        szDump = %system ncdump.exe $fName\n",
      "    szDump = '\\n'.join(szDump)\n",
      "    szDump=szDump.encode('string_escape').replace('\\\\t','\\t').replace('\\\\n','\\n').replace('\\\\',' ')\n",
      "    return szDump\n",
      "\n",
      "ncdata = get_ncdump('example_3D_dataset.nc', header_only = 0)\n",
      "print ncdata"
     ],
     "language": "python",
     "metadata": {},
     "outputs": [
      {
       "output_type": "stream",
       "stream": "stdout",
       "text": [
        "netcdf example_3D_dataset {\n",
        "dimensions:\n",
        "\tx = 4 ;\n",
        "\ty = 4 ;\n",
        "\tz = 4 ;\n",
        "variables:\n",
        "\tfloat x(x) ;\n",
        "\t\tx:units = \"degrees\" ;\n",
        "\t\tx:long_name = \"x data\" ;\n",
        "\tfloat y(y) ;\n",
        "\t\ty:units = \"degrees\" ;\n",
        "\t\ty:long_name = \"y data\" ;\n",
        "\tfloat z(z) ;\n",
        "\t\tz:units = \"cm\" ;\n",
        "\t\tz:long_name = \"z data\" ;\n",
        "\n",
        "// global attributes:\n",
        "\t\t:title = \"Sample 3D dataset\" ;\n",
        "\t\t:date = \"Tuesday, Jan 27 2015\" ;\n",
        "\t\t:author = \"Yours truely\" ;\n",
        "\t\t:motto = \"Having fun in the process - thats our motto!\" ;\n",
        "\t\t:description = \"A dataset with 3 dimensions, x,y,z filled with some funky degree information\" ;\n",
        "data:\n",
        "\n",
        " x = 180, 225, 270, 315 ;\n",
        "\n",
        " y = 90, 135, 180, 225 ;\n",
        "\n",
        " z = 0, 45, 90, 135 ;\n",
        "}\n"
       ]
      }
     ],
     "prompt_number": 7
    },
    {
     "cell_type": "markdown",
     "metadata": {},
     "source": [
      "##Reading a netCDF file from python##\n",
      "\n",
      "Just as writing a file the first thing we need to do is open the file for reading. "
     ]
    },
    {
     "cell_type": "code",
     "collapsed": false,
     "input": [
      "from netCDF4 import Dataset\n",
      "import numpy as np\n",
      "\n",
      "# open the netCDF file to read from\n",
      "ncfile = Dataset(\"example_3D_dataset.nc\",mode='r', format='NETCDF4')       "
     ],
     "language": "python",
     "metadata": {},
     "outputs": [],
     "prompt_number": 8
    },
    {
     "cell_type": "markdown",
     "metadata": {},
     "source": [
      "##Reading Dimensions##\n",
      "Again as above, we will work our way through readin dimensions, variables and then attributes skipping, for now, groups."
     ]
    },
    {
     "cell_type": "code",
     "collapsed": false,
     "input": [
      "# get the number of dimensions where dims is a dictionary  \n",
      "dims = ncfile.dimensions    \n",
      "ndims = len(dims)                        # the size is the actual # of dimensions\n",
      "\n",
      "print(\"number of dimensions  =  \" + str(ndims))  \n",
      "\n",
      "# print the name and size of each dimension  \n",
      "for key in dims:  \n",
      "  print(\"dimension[\"+key+\"] = \" + str(len(dims[key])))    "
     ],
     "language": "python",
     "metadata": {},
     "outputs": [
      {
       "output_type": "stream",
       "stream": "stdout",
       "text": [
        "number of dimensions  =  3\n",
        "dimension[x] = 4\n",
        "dimension[y] = 4\n",
        "dimension[z] = 4\n"
       ]
      }
     ],
     "prompt_number": 9
    },
    {
     "cell_type": "markdown",
     "metadata": {},
     "source": [
      "##Reading Variables##\n",
      "Once we have the dimensions we read and parse the variables."
     ]
    },
    {
     "cell_type": "code",
     "collapsed": false,
     "input": [
      "# get the Variables where variables is again a dictionary\n",
      "vars = ncfile.variables \n",
      "\n",
      "# get the number of variables\n",
      "nvars = len(vars)\n",
      "print(\"Number of variables = \"+str(nvars))\n",
      "\n",
      "# for each variable, its dimensions and attributes\n",
      "for var in vars:\n",
      "    print(\"  variable \"+var)\n",
      "    print(\"Shape = \"+ str(vars[var].shape)) # get the dimensions of the variable\n",
      "    vdims = vars[var].dimensions\n",
      "    \n",
      "    # display the size of the variable\n",
      "    for vd in vdims:\n",
      "        print(\"Dimension [\"+vd+\"] = \"+str(len(dims[vd]))) \n",
      "        \n",
      "    # get the attributes for the variable where vattrs is a dictionary\n",
      "    vattrs = vars[var].ncattrs()\n",
      "    print(\"Number of attributes = \"+str(len(vattrs)))\n",
      "    for vat in vattrs:\n",
      "        print(\"Attribute [\"+vat+\"] = \" + str(getattr(vars[var],vat)))\n",
      "        \n",
      "    # display the variables data \n",
      "    vdata = vars[var][:]\n",
      "    print vdata"
     ],
     "language": "python",
     "metadata": {},
     "outputs": [
      {
       "output_type": "stream",
       "stream": "stdout",
       "text": [
        "Number of variables = 3\n",
        "  variable x\n",
        "Shape = (4,)\n",
        "Dimension [x] = 4\n",
        "Number of attributes = 2\n",
        "Attribute [units] = degrees\n",
        "Attribute [long_name] = x data\n",
        "[ 180.  225.  270.  315.]\n",
        "  variable y\n",
        "Shape = (4,)\n",
        "Dimension [y] = 4\n",
        "Number of attributes = 2\n",
        "Attribute [units] = degrees\n",
        "Attribute [long_name] = y data\n",
        "[  90.  135.  180.  225.]\n",
        "  variable z\n",
        "Shape = (4,)\n",
        "Dimension [z] = 4\n",
        "Number of attributes = 2\n",
        "Attribute [units] = cm\n",
        "Attribute [long_name] = z data\n",
        "[   0.   45.   90.  135.]\n"
       ]
      }
     ],
     "prompt_number": 10
    },
    {
     "cell_type": "markdown",
     "metadata": {},
     "source": [
      "##Read Attributes##\n",
      "Now we can read and display the files global attributes"
     ]
    },
    {
     "cell_type": "code",
     "collapsed": false,
     "input": [
      "# get the Global Attributes where gattrs\n",
      "gattrs = ncfile.ncattrs()#gattrs is a dictionary\n",
      "ngattrs = len(gattrs)  # get the number of attribute\n",
      "print(\"Number of global attributes = \"+str(ngattrs))\n",
      "\n",
      "#Now dispaly each of the global attributes\n",
      "for key in gattrs:\n",
      "    print(\"Global attribute[\"+key+\"] =  \"  + str(getattr(ncfile, key))) "
     ],
     "language": "python",
     "metadata": {},
     "outputs": [
      {
       "output_type": "stream",
       "stream": "stdout",
       "text": [
        "Number of global attributes = 5\n",
        "Global attribute[title] =  Sample 3D dataset\n",
        "Global attribute[date] =  Tuesday, Jan 27 2015\n",
        "Global attribute[author] =  Yours truely\n",
        "Global attribute[motto] =  Having fun in the process - thats our motto!\n",
        "Global attribute[description] =  A dataset with 3 dimensions, x,y,z filled with some funky degree information\n"
       ]
      }
     ],
     "prompt_number": 11
    },
    {
     "cell_type": "markdown",
     "metadata": {},
     "source": [
      "##Closing the Dataset file##\n",
      "Again we must always remeber to close the file when we are done with it"
     ]
    },
    {
     "cell_type": "code",
     "collapsed": false,
     "input": [
      "# close the file.\n",
      "ncfile.close()\n",
      "print 'File Closed Successfully!'"
     ],
     "language": "python",
     "metadata": {},
     "outputs": [
      {
       "output_type": "stream",
       "stream": "stdout",
       "text": [
        "File Closed Successfully!\n"
       ]
      }
     ],
     "prompt_number": 12
    },
    {
     "cell_type": "code",
     "collapsed": false,
     "input": [],
     "language": "python",
     "metadata": {},
     "outputs": [],
     "prompt_number": 12
    }
   ],
   "metadata": {}
  }
 ]
}